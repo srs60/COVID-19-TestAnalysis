{
 "cells": [
  {
   "cell_type": "markdown",
   "metadata": {},
   "source": [
    "# COVID-19 Analysis Preparation and Plotting"
   ]
  },
  {
   "cell_type": "code",
   "execution_count": 1,
   "metadata": {},
   "outputs": [],
   "source": [
    "# Import Python Libraries\n",
    "import numpy as np\n",
    "import pandas as pd\n",
    "import matplotlib.pyplot as plt\n",
    "%matplotlib inline"
   ]
  },
  {
   "cell_type": "code",
   "execution_count": null,
   "metadata": {},
   "outputs": [],
   "source": []
  },
  {
   "cell_type": "markdown",
   "metadata": {},
   "source": [
    "## first data file"
   ]
  },
  {
   "cell_type": "code",
   "execution_count": 2,
   "metadata": {},
   "outputs": [
    {
     "name": "stdout",
     "output_type": "stream",
     "text": [
      "57808\n",
      "Index(['iso_code', 'continent', 'location', 'date', 'total_cases', 'new_cases',\n",
      "       'new_cases_smoothed', 'total_deaths', 'new_deaths',\n",
      "       'new_deaths_smoothed', 'total_cases_per_million',\n",
      "       'new_cases_per_million', 'new_cases_smoothed_per_million',\n",
      "       'total_deaths_per_million', 'new_deaths_per_million',\n",
      "       'new_deaths_smoothed_per_million', 'reproduction_rate', 'icu_patients',\n",
      "       'icu_patients_per_million', 'hosp_patients',\n",
      "       'hosp_patients_per_million', 'weekly_icu_admissions',\n",
      "       'weekly_icu_admissions_per_million', 'weekly_hosp_admissions',\n",
      "       'weekly_hosp_admissions_per_million', 'new_tests', 'total_tests',\n",
      "       'total_tests_per_thousand', 'new_tests_per_thousand',\n",
      "       'new_tests_smoothed', 'new_tests_smoothed_per_thousand',\n",
      "       'positive_rate', 'tests_per_case', 'tests_units', 'total_vaccinations',\n",
      "       'total_vaccinations_per_hundred', 'stringency_index', 'population',\n",
      "       'population_density', 'median_age', 'aged_65_older', 'aged_70_older',\n",
      "       'gdp_per_capita', 'extreme_poverty', 'cardiovasc_death_rate',\n",
      "       'diabetes_prevalence', 'female_smokers', 'male_smokers',\n",
      "       'handwashing_facilities', 'hospital_beds_per_thousand',\n",
      "       'life_expectancy', 'human_development_index'],\n",
      "      dtype='object')\n",
      "301\n"
     ]
    }
   ],
   "source": [
    "# Read csv file\n",
    "# Coronavirus Source Data by Hannah Ritchie\n",
    "# https://ourworldindata.org/coronavirus-source-data\n",
    "mf = pd.read_csv(\"data/owid-covid-data.csv\")\n",
    "mflen = len(mf)\n",
    "print(mflen)\n",
    "print(mf.columns)\n",
    "\n",
    "mf1 = mf[mf['location'] == 'Bulgaria']   # extract only data for Bulgaria\n",
    "mf1len = len(mf1)\n",
    "print(mf1len)\n",
    "\n",
    "del mf"
   ]
  },
  {
   "cell_type": "code",
   "execution_count": 3,
   "metadata": {},
   "outputs": [
    {
     "name": "stdout",
     "output_type": "stream",
     "text": [
      "301\n"
     ]
    },
    {
     "data": {
      "text/html": [
       "<div>\n",
       "<style scoped>\n",
       "    .dataframe tbody tr th:only-of-type {\n",
       "        vertical-align: middle;\n",
       "    }\n",
       "\n",
       "    .dataframe tbody tr th {\n",
       "        vertical-align: top;\n",
       "    }\n",
       "\n",
       "    .dataframe thead th {\n",
       "        text-align: right;\n",
       "    }\n",
       "</style>\n",
       "<table border=\"1\" class=\"dataframe\">\n",
       "  <thead>\n",
       "    <tr style=\"text-align: right;\">\n",
       "      <th></th>\n",
       "      <th>iso_code</th>\n",
       "      <th>continent</th>\n",
       "      <th>location</th>\n",
       "      <th>date</th>\n",
       "      <th>total_cases</th>\n",
       "      <th>new_cases</th>\n",
       "      <th>new_cases_smoothed</th>\n",
       "      <th>total_deaths</th>\n",
       "      <th>new_deaths</th>\n",
       "      <th>new_deaths_smoothed</th>\n",
       "      <th>...</th>\n",
       "      <th>gdp_per_capita</th>\n",
       "      <th>extreme_poverty</th>\n",
       "      <th>cardiovasc_death_rate</th>\n",
       "      <th>diabetes_prevalence</th>\n",
       "      <th>female_smokers</th>\n",
       "      <th>male_smokers</th>\n",
       "      <th>handwashing_facilities</th>\n",
       "      <th>hospital_beds_per_thousand</th>\n",
       "      <th>life_expectancy</th>\n",
       "      <th>human_development_index</th>\n",
       "    </tr>\n",
       "  </thead>\n",
       "  <tbody>\n",
       "    <tr>\n",
       "      <th>296</th>\n",
       "      <td>BGR</td>\n",
       "      <td>Europe</td>\n",
       "      <td>Bulgaria</td>\n",
       "      <td>2020-12-29</td>\n",
       "      <td>199491.0</td>\n",
       "      <td>1438.0</td>\n",
       "      <td>745.714</td>\n",
       "      <td>7405.0</td>\n",
       "      <td>154.0</td>\n",
       "      <td>75.143</td>\n",
       "      <td>...</td>\n",
       "      <td>18563.307</td>\n",
       "      <td>1.5</td>\n",
       "      <td>424.688</td>\n",
       "      <td>5.81</td>\n",
       "      <td>30.1</td>\n",
       "      <td>44.4</td>\n",
       "      <td>NaN</td>\n",
       "      <td>7.454</td>\n",
       "      <td>75.05</td>\n",
       "      <td>0.813</td>\n",
       "    </tr>\n",
       "    <tr>\n",
       "      <th>297</th>\n",
       "      <td>BGR</td>\n",
       "      <td>Europe</td>\n",
       "      <td>Bulgaria</td>\n",
       "      <td>2020-12-30</td>\n",
       "      <td>201220.0</td>\n",
       "      <td>1729.0</td>\n",
       "      <td>762.000</td>\n",
       "      <td>7515.0</td>\n",
       "      <td>110.0</td>\n",
       "      <td>76.714</td>\n",
       "      <td>...</td>\n",
       "      <td>18563.307</td>\n",
       "      <td>1.5</td>\n",
       "      <td>424.688</td>\n",
       "      <td>5.81</td>\n",
       "      <td>30.1</td>\n",
       "      <td>44.4</td>\n",
       "      <td>NaN</td>\n",
       "      <td>7.454</td>\n",
       "      <td>75.05</td>\n",
       "      <td>0.813</td>\n",
       "    </tr>\n",
       "    <tr>\n",
       "      <th>298</th>\n",
       "      <td>BGR</td>\n",
       "      <td>Europe</td>\n",
       "      <td>Bulgaria</td>\n",
       "      <td>2020-12-31</td>\n",
       "      <td>202266.0</td>\n",
       "      <td>1046.0</td>\n",
       "      <td>801.143</td>\n",
       "      <td>7576.0</td>\n",
       "      <td>61.0</td>\n",
       "      <td>79.000</td>\n",
       "      <td>...</td>\n",
       "      <td>18563.307</td>\n",
       "      <td>1.5</td>\n",
       "      <td>424.688</td>\n",
       "      <td>5.81</td>\n",
       "      <td>30.1</td>\n",
       "      <td>44.4</td>\n",
       "      <td>NaN</td>\n",
       "      <td>7.454</td>\n",
       "      <td>75.05</td>\n",
       "      <td>0.813</td>\n",
       "    </tr>\n",
       "    <tr>\n",
       "      <th>299</th>\n",
       "      <td>BGR</td>\n",
       "      <td>Europe</td>\n",
       "      <td>Bulgaria</td>\n",
       "      <td>2021-01-01</td>\n",
       "      <td>202540.0</td>\n",
       "      <td>274.0</td>\n",
       "      <td>803.571</td>\n",
       "      <td>7604.0</td>\n",
       "      <td>28.0</td>\n",
       "      <td>75.857</td>\n",
       "      <td>...</td>\n",
       "      <td>18563.307</td>\n",
       "      <td>1.5</td>\n",
       "      <td>424.688</td>\n",
       "      <td>5.81</td>\n",
       "      <td>30.1</td>\n",
       "      <td>44.4</td>\n",
       "      <td>NaN</td>\n",
       "      <td>7.454</td>\n",
       "      <td>75.05</td>\n",
       "      <td>0.813</td>\n",
       "    </tr>\n",
       "    <tr>\n",
       "      <th>300</th>\n",
       "      <td>BGR</td>\n",
       "      <td>Europe</td>\n",
       "      <td>Bulgaria</td>\n",
       "      <td>2021-01-02</td>\n",
       "      <td>202880.0</td>\n",
       "      <td>340.0</td>\n",
       "      <td>785.143</td>\n",
       "      <td>7644.0</td>\n",
       "      <td>40.0</td>\n",
       "      <td>74.429</td>\n",
       "      <td>...</td>\n",
       "      <td>18563.307</td>\n",
       "      <td>1.5</td>\n",
       "      <td>424.688</td>\n",
       "      <td>5.81</td>\n",
       "      <td>30.1</td>\n",
       "      <td>44.4</td>\n",
       "      <td>NaN</td>\n",
       "      <td>7.454</td>\n",
       "      <td>75.05</td>\n",
       "      <td>0.813</td>\n",
       "    </tr>\n",
       "  </tbody>\n",
       "</table>\n",
       "<p>5 rows × 52 columns</p>\n",
       "</div>"
      ],
      "text/plain": [
       "    iso_code continent  location        date  total_cases  new_cases  \\\n",
       "296      BGR    Europe  Bulgaria  2020-12-29     199491.0     1438.0   \n",
       "297      BGR    Europe  Bulgaria  2020-12-30     201220.0     1729.0   \n",
       "298      BGR    Europe  Bulgaria  2020-12-31     202266.0     1046.0   \n",
       "299      BGR    Europe  Bulgaria  2021-01-01     202540.0      274.0   \n",
       "300      BGR    Europe  Bulgaria  2021-01-02     202880.0      340.0   \n",
       "\n",
       "     new_cases_smoothed  total_deaths  new_deaths  new_deaths_smoothed  ...  \\\n",
       "296             745.714        7405.0       154.0               75.143  ...   \n",
       "297             762.000        7515.0       110.0               76.714  ...   \n",
       "298             801.143        7576.0        61.0               79.000  ...   \n",
       "299             803.571        7604.0        28.0               75.857  ...   \n",
       "300             785.143        7644.0        40.0               74.429  ...   \n",
       "\n",
       "     gdp_per_capita  extreme_poverty  cardiovasc_death_rate  \\\n",
       "296       18563.307              1.5                424.688   \n",
       "297       18563.307              1.5                424.688   \n",
       "298       18563.307              1.5                424.688   \n",
       "299       18563.307              1.5                424.688   \n",
       "300       18563.307              1.5                424.688   \n",
       "\n",
       "     diabetes_prevalence  female_smokers  male_smokers  \\\n",
       "296                 5.81            30.1          44.4   \n",
       "297                 5.81            30.1          44.4   \n",
       "298                 5.81            30.1          44.4   \n",
       "299                 5.81            30.1          44.4   \n",
       "300                 5.81            30.1          44.4   \n",
       "\n",
       "     handwashing_facilities  hospital_beds_per_thousand  life_expectancy  \\\n",
       "296                     NaN                       7.454            75.05   \n",
       "297                     NaN                       7.454            75.05   \n",
       "298                     NaN                       7.454            75.05   \n",
       "299                     NaN                       7.454            75.05   \n",
       "300                     NaN                       7.454            75.05   \n",
       "\n",
       "     human_development_index  \n",
       "296                    0.813  \n",
       "297                    0.813  \n",
       "298                    0.813  \n",
       "299                    0.813  \n",
       "300                    0.813  \n",
       "\n",
       "[5 rows x 52 columns]"
      ]
     },
     "execution_count": 3,
     "metadata": {},
     "output_type": "execute_result"
    }
   ],
   "source": [
    "mp1 = mf1.copy(deep=True)\n",
    "mp1len = len(mp1)\n",
    "print(mp1len)\n",
    "\n",
    "mp1.index = range(mp1len)   # reindexing from (7652,7952) to (0,300)\n",
    "\n",
    "mp1.tail(5)"
   ]
  },
  {
   "cell_type": "code",
   "execution_count": 5,
   "metadata": {},
   "outputs": [
    {
     "data": {
      "text/plain": [
       "Index(['date', 'new_cases', 'new_cases_sm', 'new_deaths', 'new_deaths_sm',\n",
       "       'new_tests', 'vacc', 'hum-dev-idx'],\n",
       "      dtype='object')"
      ]
     },
     "execution_count": 5,
     "metadata": {},
     "output_type": "execute_result"
    }
   ],
   "source": [
    "# select a part of the columns\n",
    "mp2 = mp1[[\n",
    "        'date', \n",
    "        'total_cases', 'new_cases', 'new_cases_smoothed', \n",
    "        'total_deaths', 'new_deaths', 'new_deaths_smoothed', \n",
    "        'new_cases_per_million',\n",
    "        'reproduction_rate', \n",
    "        'hosp_patients',\n",
    "        'total_tests', 'new_tests',\n",
    "        'positive_rate',\n",
    "        'total_vaccinations',\n",
    "        'human_development_index']]\n",
    "#mp2.columns\n",
    "\n",
    "# changing some of columns names to shorter\n",
    "mp3 = mp2[[\n",
    "        'date', \n",
    "        'new_cases', 'new_cases_smoothed', \n",
    "        'new_deaths', 'new_deaths_smoothed', \n",
    "        'new_tests',\n",
    "        'total_vaccinations',\n",
    "        'human_development_index']]\n",
    "\n",
    "mp3.rename(columns = {\n",
    "        'new_cases_smoothed' : 'new_cases_sm', \n",
    "        'new_deaths_smoothed' : 'new_deaths_sm', \n",
    "        'total_vaccinations' : 'vacc',\n",
    "        'human_development_index' : 'hum-dev-idx' ,\n",
    "}, inplace = True)\n",
    "\n",
    "mp3.columns"
   ]
  },
  {
   "cell_type": "code",
   "execution_count": 6,
   "metadata": {},
   "outputs": [
    {
     "data": {
      "text/html": [
       "<div>\n",
       "<style scoped>\n",
       "    .dataframe tbody tr th:only-of-type {\n",
       "        vertical-align: middle;\n",
       "    }\n",
       "\n",
       "    .dataframe tbody tr th {\n",
       "        vertical-align: top;\n",
       "    }\n",
       "\n",
       "    .dataframe thead th {\n",
       "        text-align: right;\n",
       "    }\n",
       "</style>\n",
       "<table border=\"1\" class=\"dataframe\">\n",
       "  <thead>\n",
       "    <tr style=\"text-align: right;\">\n",
       "      <th></th>\n",
       "      <th>date</th>\n",
       "      <th>new_cases</th>\n",
       "      <th>new_cases_sm</th>\n",
       "      <th>new_deaths</th>\n",
       "      <th>new_deaths_sm</th>\n",
       "      <th>new_tests</th>\n",
       "      <th>vacc</th>\n",
       "      <th>hum-dev-idx</th>\n",
       "    </tr>\n",
       "  </thead>\n",
       "  <tbody>\n",
       "    <tr>\n",
       "      <th>295</th>\n",
       "      <td>2020-12-28</td>\n",
       "      <td>337.0</td>\n",
       "      <td>797.286</td>\n",
       "      <td>87.0</td>\n",
       "      <td>69.429</td>\n",
       "      <td>2809.0</td>\n",
       "      <td>NaN</td>\n",
       "      <td>0.813</td>\n",
       "    </tr>\n",
       "    <tr>\n",
       "      <th>296</th>\n",
       "      <td>2020-12-29</td>\n",
       "      <td>1438.0</td>\n",
       "      <td>745.714</td>\n",
       "      <td>154.0</td>\n",
       "      <td>75.143</td>\n",
       "      <td>2367.0</td>\n",
       "      <td>1719.0</td>\n",
       "      <td>0.813</td>\n",
       "    </tr>\n",
       "    <tr>\n",
       "      <th>297</th>\n",
       "      <td>2020-12-30</td>\n",
       "      <td>1729.0</td>\n",
       "      <td>762.000</td>\n",
       "      <td>110.0</td>\n",
       "      <td>76.714</td>\n",
       "      <td>8076.0</td>\n",
       "      <td>4608.0</td>\n",
       "      <td>0.813</td>\n",
       "    </tr>\n",
       "    <tr>\n",
       "      <th>298</th>\n",
       "      <td>2020-12-31</td>\n",
       "      <td>1046.0</td>\n",
       "      <td>801.143</td>\n",
       "      <td>61.0</td>\n",
       "      <td>79.000</td>\n",
       "      <td>8473.0</td>\n",
       "      <td>NaN</td>\n",
       "      <td>0.813</td>\n",
       "    </tr>\n",
       "    <tr>\n",
       "      <th>299</th>\n",
       "      <td>2021-01-01</td>\n",
       "      <td>274.0</td>\n",
       "      <td>803.571</td>\n",
       "      <td>28.0</td>\n",
       "      <td>75.857</td>\n",
       "      <td>5738.0</td>\n",
       "      <td>4739.0</td>\n",
       "      <td>0.813</td>\n",
       "    </tr>\n",
       "  </tbody>\n",
       "</table>\n",
       "</div>"
      ],
      "text/plain": [
       "           date  new_cases  new_cases_sm  new_deaths  new_deaths_sm  \\\n",
       "295  2020-12-28      337.0       797.286        87.0         69.429   \n",
       "296  2020-12-29     1438.0       745.714       154.0         75.143   \n",
       "297  2020-12-30     1729.0       762.000       110.0         76.714   \n",
       "298  2020-12-31     1046.0       801.143        61.0         79.000   \n",
       "299  2021-01-01      274.0       803.571        28.0         75.857   \n",
       "\n",
       "     new_tests    vacc  hum-dev-idx  \n",
       "295     2809.0     NaN        0.813  \n",
       "296     2367.0  1719.0        0.813  \n",
       "297     8076.0  4608.0        0.813  \n",
       "298     8473.0     NaN        0.813  \n",
       "299     5738.0  4739.0        0.813  "
      ]
     },
     "execution_count": 6,
     "metadata": {},
     "output_type": "execute_result"
    }
   ],
   "source": [
    "mp3[-6:-1]"
   ]
  },
  {
   "cell_type": "code",
   "execution_count": 8,
   "metadata": {},
   "outputs": [
    {
     "data": {
      "image/png": "[encoded data removed]",
      "text/plain": [
       "<Figure size 1008x720 with 5 Axes>"
      ]
     },
     "metadata": {
      "needs_background": "light"
     },
     "output_type": "display_data"
    }
   ],
   "source": [
    "mp5 = mp3[['date', 'new_cases', 'new_cases_sm', 'new_deaths', 'new_deaths_sm', 'new_tests']]\n",
    "ax = mp5.plot.bar(x='date',rot=60, figsize=(14, 10), width=0.75, grid=False, subplots=True, edgecolor='none')\n",
    "ax[2].legend(loc=2)\n",
    "plt.xticks(mp5.index,mp5['date'][::30].values)\n",
    "plt.locator_params(axis='x', nbins=10)"
   ]
  },
  {
   "cell_type": "code",
   "execution_count": null,
   "metadata": {},
   "outputs": [],
   "source": []
  },
  {
   "cell_type": "markdown",
   "metadata": {},
   "source": [
    "## second data file"
   ]
  },
  {
   "cell_type": "code",
   "execution_count": 83,
   "metadata": {},
   "outputs": [
    {
     "name": "stdout",
     "output_type": "stream",
     "text": [
      "207\n"
     ]
    }
   ],
   "source": [
    "# Read csv file\n",
    "# https://data.egov.bg/data/resourceView/e59f95dd-afde-43af-83c8-ea2916badd19\n",
    "# df = pd.read_csv(\"data/Обща статистика за разпространението_2020-12-23_v146.csv\")\n",
    "df = pd.read_csv(\"data/Обща статистика за разпространението_2020-12-29_v152.csv\")\n",
    "dflen = len(df)\n",
    "print(dflen)"
   ]
  },
  {
   "cell_type": "code",
   "execution_count": 84,
   "metadata": {},
   "outputs": [
    {
     "name": "stdout",
     "output_type": "stream",
     "text": [
      "Index(['Date', 'Tests', 'NewCases', 'Hospital', 'Intensive', 'Cured', 'Deads'], dtype='object')\n"
     ]
    },
    {
     "data": {
      "text/html": [
       "<div>\n",
       "<style scoped>\n",
       "    .dataframe tbody tr th:only-of-type {\n",
       "        vertical-align: middle;\n",
       "    }\n",
       "\n",
       "    .dataframe tbody tr th {\n",
       "        vertical-align: top;\n",
       "    }\n",
       "\n",
       "    .dataframe thead th {\n",
       "        text-align: right;\n",
       "    }\n",
       "</style>\n",
       "<table border=\"1\" class=\"dataframe\">\n",
       "  <thead>\n",
       "    <tr style=\"text-align: right;\">\n",
       "      <th></th>\n",
       "      <th>Date</th>\n",
       "      <th>Tests</th>\n",
       "      <th>NewCases</th>\n",
       "      <th>Hospital</th>\n",
       "      <th>Intensive</th>\n",
       "      <th>Cured</th>\n",
       "      <th>Deads</th>\n",
       "    </tr>\n",
       "  </thead>\n",
       "  <tbody>\n",
       "    <tr>\n",
       "      <th>204</th>\n",
       "      <td>2020/12/27</td>\n",
       "      <td>1759</td>\n",
       "      <td>469</td>\n",
       "      <td>5545</td>\n",
       "      <td>523</td>\n",
       "      <td>876</td>\n",
       "      <td>50</td>\n",
       "    </tr>\n",
       "    <tr>\n",
       "      <th>205</th>\n",
       "      <td>2020/12/28</td>\n",
       "      <td>1905</td>\n",
       "      <td>332</td>\n",
       "      <td>5571</td>\n",
       "      <td>523</td>\n",
       "      <td>1266</td>\n",
       "      <td>41</td>\n",
       "    </tr>\n",
       "    <tr>\n",
       "      <th>206</th>\n",
       "      <td>2020/12/29</td>\n",
       "      <td>1012</td>\n",
       "      <td>337</td>\n",
       "      <td>5511</td>\n",
       "      <td>504</td>\n",
       "      <td>1475</td>\n",
       "      <td>87</td>\n",
       "    </tr>\n",
       "  </tbody>\n",
       "</table>\n",
       "</div>"
      ],
      "text/plain": [
       "           Date  Tests  NewCases  Hospital  Intensive  Cured  Deads\n",
       "204  2020/12/27   1759       469      5545        523    876     50\n",
       "205  2020/12/28   1905       332      5571        523   1266     41\n",
       "206  2020/12/29   1012       337      5511        504   1475     87"
      ]
     },
     "execution_count": 84,
     "metadata": {},
     "output_type": "execute_result"
    }
   ],
   "source": [
    "# select a part of the columns\n",
    "df2 = df[\n",
    "    ['Дата', 'Тестове за денонощие','Нови случаи за денонощие',\n",
    "     'Хоспитализирани', 'В интензивно отделение', \n",
    "     'Излекувани за денонощие', 'Починали за денонощие']\n",
    "]\n",
    "# change the column names\n",
    "df2.rename(columns = {\n",
    "    'Дата':'Date', \n",
    "    'Тестове за денонощие':'Tests',\n",
    "    'Нови случаи за денонощие':'NewCases',\n",
    "    'Хоспитализирани':'Hospital', \n",
    "    'В интензивно отделение':'Intensive', \n",
    "    'Излекувани за денонощие':'Cured', \n",
    "    'Починали за денонощие':'Deads',\n",
    "}, inplace = True)\n",
    "\n",
    "print(df2.columns)\n",
    "df2.tail(3)"
   ]
  },
  {
   "cell_type": "code",
   "execution_count": null,
   "metadata": {},
   "outputs": [],
   "source": []
  },
  {
   "cell_type": "code",
   "execution_count": 85,
   "metadata": {},
   "outputs": [
    {
     "data": {
      "text/html": [
       "<div>\n",
       "<style scoped>\n",
       "    .dataframe tbody tr th:only-of-type {\n",
       "        vertical-align: middle;\n",
       "    }\n",
       "\n",
       "    .dataframe tbody tr th {\n",
       "        vertical-align: top;\n",
       "    }\n",
       "\n",
       "    .dataframe thead th {\n",
       "        text-align: right;\n",
       "    }\n",
       "</style>\n",
       "<table border=\"1\" class=\"dataframe\">\n",
       "  <thead>\n",
       "    <tr style=\"text-align: right;\">\n",
       "      <th></th>\n",
       "      <th>Date</th>\n",
       "      <th>Tests</th>\n",
       "      <th>NewCases</th>\n",
       "      <th>Hospital</th>\n",
       "      <th>Intensive</th>\n",
       "      <th>Cured</th>\n",
       "      <th>Deads</th>\n",
       "    </tr>\n",
       "  </thead>\n",
       "  <tbody>\n",
       "  </tbody>\n",
       "</table>\n",
       "</div>"
      ],
      "text/plain": [
       "Empty DataFrame\n",
       "Columns: [Date, Tests, NewCases, Hospital, Intensive, Cured, Deads]\n",
       "Index: []"
      ]
     },
     "execution_count": 85,
     "metadata": {},
     "output_type": "execute_result"
    }
   ],
   "source": [
    "p1 = df2.copy(deep=True)\n",
    "p2 = pd.DataFrame(data=None, columns=df2.columns)\n",
    "p2"
   ]
  },
  {
   "cell_type": "code",
   "execution_count": 86,
   "metadata": {},
   "outputs": [],
   "source": [
    "# summing of the columns data by weeks\n",
    "for i in range(4,dflen,7):\n",
    "    ppcases = df2.loc[i-4:i+3,'NewCases'].sum()\n",
    "    p2.loc[i//7,'NewCases'] = ppcases // 7\n",
    "    \n",
    "    pptests = df2.loc[i-4:i+3,'Tests'].sum()\n",
    "    p2.loc[i//7,'Tests'] = pptests // 7\n",
    "    \n",
    "    ppdeads = df2.loc[i-4:i+3,'Deads'].sum()\n",
    "    p2.loc[i//7,'Deads'] = ppdeads // 7\n",
    "    \n",
    "    p2.loc[i//7,'Rate'] = (ppcases * 100) // pptests\n",
    "    \n",
    "    p2.loc[i//7,'Date'] = df2.loc[i,'Date']"
   ]
  },
  {
   "cell_type": "code",
   "execution_count": 87,
   "metadata": {},
   "outputs": [
    {
     "data": {
      "text/html": [
       "<div>\n",
       "<style scoped>\n",
       "    .dataframe tbody tr th:only-of-type {\n",
       "        vertical-align: middle;\n",
       "    }\n",
       "\n",
       "    .dataframe tbody tr th {\n",
       "        vertical-align: top;\n",
       "    }\n",
       "\n",
       "    .dataframe thead th {\n",
       "        text-align: right;\n",
       "    }\n",
       "</style>\n",
       "<table border=\"1\" class=\"dataframe\">\n",
       "  <thead>\n",
       "    <tr style=\"text-align: right;\">\n",
       "      <th></th>\n",
       "      <th>Date</th>\n",
       "      <th>Tests</th>\n",
       "      <th>NewCases</th>\n",
       "      <th>Deads</th>\n",
       "      <th>Rate</th>\n",
       "    </tr>\n",
       "  </thead>\n",
       "  <tbody>\n",
       "    <tr>\n",
       "      <th>26</th>\n",
       "      <td>2020/12/09</td>\n",
       "      <td>8364.0</td>\n",
       "      <td>3210.0</td>\n",
       "      <td>151.0</td>\n",
       "      <td>38.0</td>\n",
       "    </tr>\n",
       "    <tr>\n",
       "      <th>27</th>\n",
       "      <td>2020/12/16</td>\n",
       "      <td>6684.0</td>\n",
       "      <td>2208.0</td>\n",
       "      <td>155.0</td>\n",
       "      <td>33.0</td>\n",
       "    </tr>\n",
       "    <tr>\n",
       "      <th>28</th>\n",
       "      <td>2020/12/23</td>\n",
       "      <td>4348.0</td>\n",
       "      <td>1232.0</td>\n",
       "      <td>104.0</td>\n",
       "      <td>28.0</td>\n",
       "    </tr>\n",
       "  </tbody>\n",
       "</table>\n",
       "</div>"
      ],
      "text/plain": [
       "          Date   Tests  NewCases  Deads  Rate\n",
       "26  2020/12/09  8364.0    3210.0  151.0  38.0\n",
       "27  2020/12/16  6684.0    2208.0  155.0  33.0\n",
       "28  2020/12/23  4348.0    1232.0  104.0  28.0"
      ]
     },
     "execution_count": 87,
     "metadata": {},
     "output_type": "execute_result"
    }
   ],
   "source": [
    "p3 = p2[['Date','Tests','NewCases','Deads','Rate']]\n",
    "p3.tail(3)"
   ]
  },
  {
   "cell_type": "code",
   "execution_count": 88,
   "metadata": {
    "scrolled": true
   },
   "outputs": [
    {
     "data": {
      "text/plain": [
       "<matplotlib.legend.Legend at 0x7fc775a684e0>"
      ]
     },
     "execution_count": 88,
     "metadata": {},
     "output_type": "execute_result"
    },
    {
     "data": {
      "image/png": "[encoded data removed]",
      "text/plain": [
       "<Figure size 864x720 with 4 Axes>"
      ]
     },
     "metadata": {
      "needs_background": "light"
     },
     "output_type": "display_data"
    }
   ],
   "source": [
    "axes = p3.plot.bar(x='Date',rot=60, figsize=(12, 10), width=0.7, grid=True, subplots=True)\n",
    "plt.xticks(rotation=60)\n",
    "axes[2].legend(loc=2)\n",
    "\n",
    "#plt.savefig('covid-19_2020.png', dpi=200)"
   ]
  },
  {
   "cell_type": "code",
   "execution_count": 13,
   "metadata": {},
   "outputs": [
    {
     "data": {
      "text/plain": [
       "[<matplotlib.axis.XTick at 0x7f39685c81d0>,\n",
       " <matplotlib.axis.XTick at 0x7f39685c80b8>,\n",
       " <matplotlib.axis.XTick at 0x7f39677d9470>,\n",
       " <matplotlib.axis.XTick at 0x7f39677b50f0>,\n",
       " <matplotlib.axis.XTick at 0x7f39677b5518>,\n",
       " <matplotlib.axis.XTick at 0x7f39677b59b0>,\n",
       " <matplotlib.axis.XTick at 0x7f39677b5e48>,\n",
       " <matplotlib.axis.XTick at 0x7f39677b9320>,\n",
       " <matplotlib.axis.XTick at 0x7f39677b97b8>,\n",
       " <matplotlib.axis.XTick at 0x7f396788d898>,\n",
       " <matplotlib.axis.XTick at 0x7f396774c2e8>,\n",
       " <matplotlib.axis.XTick at 0x7f396774c898>,\n",
       " <matplotlib.axis.XTick at 0x7f396774cd30>,\n",
       " <matplotlib.axis.XTick at 0x7f3967754208>,\n",
       " <matplotlib.axis.XTick at 0x7f396774c7f0>,\n",
       " <matplotlib.axis.XTick at 0x7f396774c048>,\n",
       " <matplotlib.axis.XTick at 0x7f39677b5390>,\n",
       " <matplotlib.axis.XTick at 0x7f39677547f0>,\n",
       " <matplotlib.axis.XTick at 0x7f3967754be0>,\n",
       " <matplotlib.axis.XTick at 0x7f396775f128>,\n",
       " <matplotlib.axis.XTick at 0x7f396775f550>,\n",
       " <matplotlib.axis.XTick at 0x7f396775f9e8>,\n",
       " <matplotlib.axis.XTick at 0x7f396775fe80>,\n",
       " <matplotlib.axis.XTick at 0x7f3967766358>,\n",
       " <matplotlib.axis.XTick at 0x7f396775f9b0>,\n",
       " <matplotlib.axis.XTick at 0x7f3967754c88>,\n",
       " <matplotlib.axis.XTick at 0x7f396774c080>,\n",
       " <matplotlib.axis.XTick at 0x7f3967766080>,\n",
       " <matplotlib.axis.XTick at 0x7f3967766e80>]"
      ]
     },
     "execution_count": 13,
     "metadata": {},
     "output_type": "execute_result"
    },
    {
     "data": {
      "image/png": "[encoded data removed]",
      "text/plain": [
       "<Figure size 864x432 with 1 Axes>"
      ]
     },
     "metadata": {
      "needs_background": "light"
     },
     "output_type": "display_data"
    }
   ],
   "source": [
    "ax = p3.plot.bar(figsize=(12, 6), x='Date',rot=60, width=2, grid=True)\n",
    "ax.legend(loc=2)\n",
    "\n",
    "#plt.xticks(p3.index,p3[\"Date\"].values)\n",
    "ax.set_xticks(ax.get_xticks())"
   ]
  },
  {
   "cell_type": "code",
   "execution_count": 14,
   "metadata": {},
   "outputs": [
    {
     "data": {
      "text/plain": [
       "[<matplotlib.axis.XTick at 0x7f396770d978>,\n",
       " <matplotlib.axis.XTick at 0x7f396770d7b8>,\n",
       " <matplotlib.axis.XTick at 0x7f3967484898>,\n",
       " <matplotlib.axis.XTick at 0x7f3967484a90>,\n",
       " <matplotlib.axis.XTick at 0x7f3967491198>,\n",
       " <matplotlib.axis.XTick at 0x7f3967491630>,\n",
       " <matplotlib.axis.XTick at 0x7f3967491ac8>]"
      ]
     },
     "execution_count": 14,
     "metadata": {},
     "output_type": "execute_result"
    },
    {
     "data": {
      "image/png": "[encoded data removed]",
      "text/plain": [
       "<Figure size 864x432 with 1 Axes>"
      ]
     },
     "metadata": {
      "needs_background": "light"
     },
     "output_type": "display_data"
    }
   ],
   "source": [
    "p5 = df2[['Date','NewCases']]\n",
    "bx = p5.plot.bar(figsize=(12, 6), x='Date', rot=60, width=2, grid=True)\n",
    "bx.legend(loc=2)\n",
    "#plt.xticks(p5.index,p5[\"Date\"][0::30].values)\n",
    "bx.set_xticks(bx.get_xticks()[0::30])"
   ]
  },
  {
   "cell_type": "code",
   "execution_count": null,
   "metadata": {},
   "outputs": [],
   "source": []
  }
 ],
 "metadata": {
  "kernelspec": {
   "display_name": "Python 3",
   "language": "python",
   "name": "python3"
  },
  "language_info": {
   "codemirror_mode": {
    "name": "ipython",
    "version": 3
   },
   "file_extension": ".py",
   "mimetype": "text/x-python",
   "name": "python",
   "nbconvert_exporter": "python",
   "pygments_lexer": "ipython3",
   "version": "3.7.0"
  }
 },
 "nbformat": 4,
 "nbformat_minor": 2
}
